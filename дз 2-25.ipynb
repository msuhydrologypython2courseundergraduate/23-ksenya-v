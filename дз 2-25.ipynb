{
 "cells": [
  {
   "cell_type": "code",
   "execution_count": 4,
   "id": "ecf185c0-8106-4808-88c2-cc6f15bceea9",
   "metadata": {},
   "outputs": [
    {
     "ename": "NameError",
     "evalue": "name 'sqrt' is not defined",
     "output_type": "error",
     "traceback": [
      "\u001b[1;31m---------------------------------------------------------------------------\u001b[0m",
      "\u001b[1;31mNameError\u001b[0m                                 Traceback (most recent call last)",
      "Cell \u001b[1;32mIn[4], line 2\u001b[0m\n\u001b[0;32m      1\u001b[0m a \u001b[38;5;241m=\u001b[39m \u001b[38;5;241m25\u001b[39m\n\u001b[1;32m----> 2\u001b[0m \u001b[38;5;28mprint\u001b[39m (sqrt(a))\n",
      "\u001b[1;31mNameError\u001b[0m: name 'sqrt' is not defined"
     ]
    }
   ],
   "source": [
    "a = 25\n",
    "print (sqrt(a))"
   ]
  },
  {
   "cell_type": "code",
   "execution_count": 5,
   "id": "76d6a7ba-e398-4c6e-ad57-5b8489a950e0",
   "metadata": {},
   "outputs": [
    {
     "ename": "SyntaxError",
     "evalue": "invalid syntax (1098713611.py, line 1)",
     "output_type": "error",
     "traceback": [
      "\u001b[1;36m  Cell \u001b[1;32mIn[5], line 1\u001b[1;36m\u001b[0m\n\u001b[1;33m    1. создать какой-то массив\u001b[0m\n\u001b[1;37m       ^\u001b[0m\n\u001b[1;31mSyntaxError\u001b[0m\u001b[1;31m:\u001b[0m invalid syntax\n"
     ]
    }
   ],
   "source": [
    "1. создать какой-то массив\n",
    "2. функция считаес среднее значение, но без крайних членов"
   ]
  },
  {
   "cell_type": "code",
   "execution_count": 5,
   "id": "4a2194e5-230e-4950-9b29-9f899fe16b12",
   "metadata": {},
   "outputs": [
    {
     "ename": "SyntaxError",
     "evalue": "invalid syntax (2654280003.py, line 5)",
     "output_type": "error",
     "traceback": [
      "\u001b[1;36m  Cell \u001b[1;32mIn[5], line 5\u001b[1;36m\u001b[0m\n\u001b[1;33m    else:\u001b[0m\n\u001b[1;37m    ^\u001b[0m\n\u001b[1;31mSyntaxError\u001b[0m\u001b[1;31m:\u001b[0m invalid syntax\n"
     ]
    }
   ],
   "source": [
    "list = float[input()]\n",
    "n = len (list)\n",
    "if len (list) <= 3:\n",
    "    print ('Требуется большее кол-во цифр для выполнения операции')\n",
    "    else:\n",
    "def average(list):\n",
    "result = sum (list.index (1:n-1:1))/n\n",
    "return average"
   ]
  },
  {
   "cell_type": "code",
   "execution_count": null,
   "id": "93fc4bfe-a222-4fce-9cab-e874dbff30dc",
   "metadata": {},
   "outputs": [],
   "source": [
    "for i in range(size):\n",
    "    if massiv[i] < minimun:\n",
    "        minimum = massiv[i]"
   ]
  },
  {
   "cell_type": "code",
   "execution_count": null,
   "id": "6429fab7-b471-4b03-81b1-cfd90affc2b8",
   "metadata": {},
   "outputs": [],
   "source": [
    "stroka = \"1.5 2 3.7\"\n",
    "    podstroki = stroka.split()\n",
    "    chisla = [float(podstroka) for podstroka in podstroki] # Используем списочное включение\n",
    "    print(chisla) # Вывод: [1.5, 2.0, 3.7]"
   ]
  },
  {
   "cell_type": "code",
   "execution_count": 8,
   "id": "b972ce36-8687-41ff-9804-4be6327569d9",
   "metadata": {},
   "outputs": [
    {
     "name": "stdin",
     "output_type": "stream",
     "text": [
      " 1,2,3,4,5\n"
     ]
    },
    {
     "name": "stdout",
     "output_type": "stream",
     "text": [
      "['12345']\n"
     ]
    }
   ],
   "source": [
    "float_list = [input('')]\n",
    "n = len(list)\n",
    "print(n)"
   ]
  },
  {
   "cell_type": "code",
   "execution_count": 23,
   "id": "7dcd4eb5-9c0c-475b-aaad-c0b11d70af78",
   "metadata": {},
   "outputs": [
    {
     "name": "stdin",
     "output_type": "stream",
     "text": [
      "Введите числа, разделенные проблами:  1 2 3\n"
     ]
    },
    {
     "name": "stdout",
     "output_type": "stream",
     "text": [
      "1\n"
     ]
    }
   ],
   "source": [
    "list_str = input(\"Введите числа, разделенные проблами: \")\n",
    "list_float = list_str.split()\n",
    "list_float = [float(x) for x in list]\n",
    "n = len(list_float)\n",
    "print(n)"
   ]
  },
  {
   "cell_type": "code",
   "execution_count": 5,
   "id": "44b347c7-02f5-46f2-aa3b-d63c0ef31891",
   "metadata": {},
   "outputs": [
    {
     "ename": "SyntaxError",
     "evalue": "invalid syntax (2215108382.py, line 8)",
     "output_type": "error",
     "traceback": [
      "\u001b[1;36m  Cell \u001b[1;32mIn[5], line 8\u001b[1;36m\u001b[0m\n\u001b[1;33m    else:\u001b[0m\n\u001b[1;37m    ^\u001b[0m\n\u001b[1;31mSyntaxError\u001b[0m\u001b[1;31m:\u001b[0m invalid syntax\n"
     ]
    }
   ],
   "source": [
    "number_str = input(\"Введите числа, разделенные пробелами\")\n",
    "number_list_str = number_str.split()\n",
    "number_list= [float(x) for x in number_list_str]\n",
    "n = len(number_list)\n",
    "def average():\n",
    "    if n <=2:\n",
    "        print('Необходимо ввести большее кол-во цифр')\n",
    "        else:\n",
    "        for i in number_list:\n",
    "        if number_list[i] < minimun:\n",
    "        minimum = number_list[i]\n",
    "        if number_list[i] > maximum:\n",
    "        maximummum = number_list[i]\n",
    "average = (sum(number_list)-minimum(i)-maximum(i))/(n-2)\n",
    "return average        "
   ]
  },
  {
   "cell_type": "code",
   "execution_count": null,
   "id": "b0e7baf8-474c-4b01-b2de-5c343c4f4eb4",
   "metadata": {},
   "outputs": [],
   "source": [
    "number_str = input(\"Введите числа, разделенные пробелами: \")  # Запрашиваем ввод у пользователя\n",
    "\n",
    "number_list_str = number_str.split()  # Разделяем строку на список строк (чисел)\n",
    "\n",
    "number_list = [float(x) for x in number_list_str]  # Преобразуем строки в числа с плавающей точкой\n",
    "\n",
    "n = len(number_list)  # Определяем количество чисел в списке\n",
    "\n",
    "print(n)"
   ]
  },
  {
   "cell_type": "code",
   "execution_count": 9,
   "id": "4aaf281c-12cf-4e61-b458-2315f5fb27fb",
   "metadata": {},
   "outputs": [
    {
     "name": "stdin",
     "output_type": "stream",
     "text": [
      "Введите числа, разделенные пробелами:  1 2 3 4 5 \n"
     ]
    },
    {
     "name": "stdout",
     "output_type": "stream",
     "text": [
      "3.0\n"
     ]
    }
   ],
   "source": [
    "number_str = input(\"Введите числа, разделенные пробелами: \")\n",
    "number_list_str = number_str.split()\n",
    "number_list = [float(x) for x in number_list_str]\n",
    "n = len(number_list)\n",
    "\n",
    "def average():\n",
    "    if n <= 2:\n",
    "        print('Необходимо ввести большее кол-во цифр')\n",
    "        return None\n",
    "    else:\n",
    "        minimum = number_list[0]\n",
    "        maximum = number_list[0]\n",
    "        for i in range(n):\n",
    "            if number_list[i] < minimum:\n",
    "                minimum = number_list[i]\n",
    "            if number_list[i] > maximum:\n",
    "                maximum = number_list[i]\n",
    "        avg = (sum(number_list) - minimum - maximum) / (n - 2)\n",
    "        return avg\n",
    "\n",
    "result = average()\n",
    "if result is not None:\n",
    "    print(result)"
   ]
  },
  {
   "cell_type": "code",
   "execution_count": 8,
   "id": "f1775437-2add-461c-9de1-d1e66cfa2c95",
   "metadata": {},
   "outputs": [
    {
     "name": "stdin",
     "output_type": "stream",
     "text": [
      "Введите числа, разделенные пробелами:  1 2 3\n"
     ]
    }
   ],
   "source": [
    "number_str = input(\"Введите числа, разделенные пробелами: \")\n",
    "number_list_str = number_str.split()\n",
    "number_list = [float(x) for x in number_list_str]\n",
    "n = len(number_list)\n",
    "\n",
    "def average():\n",
    "    if n <= 2:\n",
    "        print('Необходимо ввести большее кол-во цифр')\n",
    "        return None\n",
    "    else:\n",
    "        minimum = number_list[0]\n",
    "        maximum = number_list[0]\n",
    "        for i in range(n):\n",
    "            if number_list[i] < minimum:\n",
    "                minimum = number_list[i]\n",
    "            if number_list[i] > maximum:\n",
    "                maximum = number_list[i]\n",
    "        avg = (sum(number_list) - minimum - maximum) / (n - 2)\n",
    "        return avg"
   ]
  },
  {
   "cell_type": "code",
   "execution_count": null,
   "id": "10978b06-95b2-4631-86db-75529a42f71d",
   "metadata": {},
   "outputs": [],
   "source": []
  }
 ],
 "metadata": {
  "kernelspec": {
   "display_name": "Python 3 (ipykernel)",
   "language": "python",
   "name": "python3"
  },
  "language_info": {
   "codemirror_mode": {
    "name": "ipython",
    "version": 3
   },
   "file_extension": ".py",
   "mimetype": "text/x-python",
   "name": "python",
   "nbconvert_exporter": "python",
   "pygments_lexer": "ipython3",
   "version": "3.12.7"
  }
 },
 "nbformat": 4,
 "nbformat_minor": 5
}
