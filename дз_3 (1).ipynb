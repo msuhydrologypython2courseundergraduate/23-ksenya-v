{
 "cells": [
  {
   "cell_type": "code",
   "execution_count": 1,
   "id": "11bc6939-a524-4f7c-8177-e839e9c04754",
   "metadata": {},
   "outputs": [
    {
     "name": "stdin",
     "output_type": "stream",
     "text": [
      "Введите числа, разделенные пробелами:  1 2 3 4 5 \n"
     ]
    },
    {
     "name": "stdout",
     "output_type": "stream",
     "text": [
      "3.0\n"
     ]
    }
   ],
   "source": [
    "number_str = input(\"Введите числа, разделенные пробелами: \")\n",
    "number_list_str = number_str.split()\n",
    "number_list = [float(x) for x in number_list_str]\n",
    "n = len(number_list)\n",
    "\n",
    "def average():\n",
    "    if n <= 2:\n",
    "        print('Необходимо ввести большее кол-во цифр')\n",
    "        return None\n",
    "    else:\n",
    "        minimum = number_list[0]\n",
    "        maximum = number_list[0]\n",
    "        for i in range(n):\n",
    "            if number_list[i] < minimum:\n",
    "                minimum = number_list[i]\n",
    "            if number_list[i] > maximum:\n",
    "                maximum = number_list[i]\n",
    "        avg = (sum(number_list) - minimum - maximum) / (n - 2)\n",
    "        return avg\n",
    "result = average()\n",
    "print (result)"
   ]
  },
  {
   "cell_type": "code",
   "execution_count": 28,
   "id": "6d08dc95-e7d9-477f-a0d6-5e58a9904026",
   "metadata": {},
   "outputs": [
    {
     "name": "stdout",
     "output_type": "stream",
     "text": [
      "3\n",
      "2\n",
      "apple\n",
      "['banana', 'cherry']\n"
     ]
    }
   ],
   "source": [
    "fruits = ['apple', 'banana', 'cherry']\n",
    "n=len(fruits)\n",
    "print(n)\n",
    "last_fruits = fruits.pop(0)\n",
    "n_1=len(fruits)\n",
    "print(n_1)\n",
    "print(last_fruits)\n",
    "print(fruits)"
   ]
  },
  {
   "cell_type": "code",
   "execution_count": 44,
   "id": "3b6cf3e7-47e5-4394-8d21-4127fd64aa1a",
   "metadata": {},
   "outputs": [
    {
     "name": "stdin",
     "output_type": "stream",
     "text": [
      "Введите числа, разделенные пробелами:  1 2 3 4 5 6 7 8\n",
      "Введите долю для исключения (от 0.0 до 0.5):  0.3\n"
     ]
    },
    {
     "name": "stdout",
     "output_type": "stream",
     "text": [
      "2.25\n"
     ]
    }
   ],
   "source": [
    "number_str = input(\"Введите числа, разделенные пробелами: \")\n",
    "number_list_str = number_str.split()\n",
    "number_list = [float(x) for x in number_list_str]\n",
    "n = len(number_list)\n",
    "fraction_exception = float(input(\"Введите долю для исключения (от 0.0 до 0.5): \"))\n",
    "if not 0.0 <= fraction_exception <= 0.5 or n == 0:\n",
    "    print(\"Некорректная доля или пустой список. Невозможно вычислить среднее.\")\n",
    "elif n <= 1:\n",
    "    print(\"Слишком мало элементов в списке для вычисления усеченного среднего.\")\n",
    "else:\n",
    "    exception_size = int(n * fraction_exception) #Количество элементов для удаления с каждого конца в виде целого числа\n",
    "    if n <= 2 * exception_size:\n",
    "        print(\"Недостаточно элементов после обрезки. Невозможно вычислить среднее.\")\n",
    "    else:\n",
    "        number_list.sort()\n",
    "         # Удаляем наименьшие значения\n",
    "        for i in range(exception_size):\n",
    "            number_list.pop(0)\n",
    "\n",
    "        # Удаляем наибольшие значения (учитывая, что длина списка изменилась)\n",
    "        for i in range(exception_size):\n",
    "            number_list.pop(-1)\n",
    "\n",
    "        # Вычисляем сумму оставшихся элементов\n",
    "        p = 0\n",
    "        for i in range(len(number_list)):\n",
    "            p += number_list[i]\n",
    "\n",
    "        # Вычисляем среднее\n",
    "        avg = p / n\n",
    "        print(avg)"
   ]
  },
  {
   "cell_type": "code",
   "execution_count": 47,
   "id": "0e597b0c-e938-4c70-a9cf-01a1e854f91f",
   "metadata": {},
   "outputs": [
    {
     "name": "stdin",
     "output_type": "stream",
     "text": [
      "Введите числа, разделенные пробелами:  1 2 3 4 5 6 7 8\n"
     ]
    },
    {
     "name": "stdout",
     "output_type": "stream",
     "text": [
      "3.375\n"
     ]
    }
   ],
   "source": [
    "number_str = input(\"Введите числа, разделенные пробелами: \")\n",
    "number_list_str = number_str.split()\n",
    "number_list = []\n",
    "for x in number_list_str:\n",
    "    try:\n",
    "        number = float(x)\n",
    "        number_list.append(number)\n",
    "    except VallueError:  \n",
    "        print(\"Ошибка: Введены некорректные данные.  Пожалуйста, введите только числа, разделенные пробелами.\")\n",
    "        \n",
    "n = len(number_list)\n",
    "p=0\n",
    "number_list.sort()\n",
    "a=number_list.pop(0)\n",
    "v=number_list.pop(-1)\n",
    "for x in range (len(number_list)):\n",
    "    p+=number_list[x]\n",
    "avg=p/n\n",
    "print(avg)"
   ]
  },
  {
   "cell_type": "code",
   "execution_count": null,
   "id": "42bcf955-cc7f-45e8-ba23-1623c93f8444",
   "metadata": {},
   "outputs": [],
   "source": []
  }
 ],
 "metadata": {
  "kernelspec": {
   "display_name": "Python 3 (ipykernel)",
   "language": "python",
   "name": "python3"
  },
  "language_info": {
   "codemirror_mode": {
    "name": "ipython",
    "version": 3
   },
   "file_extension": ".py",
   "mimetype": "text/x-python",
   "name": "python",
   "nbconvert_exporter": "python",
   "pygments_lexer": "ipython3",
   "version": "3.12.7"
  }
 },
 "nbformat": 4,
 "nbformat_minor": 5
}
